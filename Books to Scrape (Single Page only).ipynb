{
 "cells": [
  {
   "cell_type": "code",
   "execution_count": 1,
   "metadata": {},
   "outputs": [],
   "source": [
    "import requests\n",
    "from bs4 import BeautifulSoup\n",
    "import numpy as np\n",
    "import pandas as pd"
   ]
  },
  {
   "cell_type": "code",
   "execution_count": 2,
   "metadata": {},
   "outputs": [],
   "source": [
    "url = \"http://books.toscrape.com/catalogue/page-1.html\"\n",
    "# URL of a fictional bookstore, safe for beginners learning web scraping"
   ]
  },
  {
   "cell_type": "code",
   "execution_count": 3,
   "metadata": {},
   "outputs": [],
   "source": [
    "headers = {\"Accept-Language\": \"en-US, en;q=0.6, en-GB;q=0.5\"}"
   ]
  },
  {
   "cell_type": "markdown",
   "metadata": {},
   "source": [
    "*`Accept-Language`* request HTTP header tells us which (natural) language the user is able to understand.\n",
    "\n",
    "**Relative quality factor**: \n",
    "Preference of language by the user, on a scale of 0 to 1 <br>\n",
    "*`en-US, en;q=0.6, en-GB;q=0.5`* means American English is preferres, but will accept other types of English and British English.\n",
    "\n",
    "https://developer.mozilla.org/en-US/docs/Web/HTTP/Headers/Accept-Language"
   ]
  },
  {
   "cell_type": "code",
   "execution_count": 4,
   "metadata": {},
   "outputs": [],
   "source": [
    "page = requests.get(url, headers = headers)"
   ]
  },
  {
   "cell_type": "markdown",
   "metadata": {},
   "source": [
    "*`request.get(url, headers = headers)`* is used to grab the contents of the URL, in language of our preference "
   ]
  },
  {
   "cell_type": "code",
   "execution_count": 5,
   "metadata": {},
   "outputs": [],
   "source": [
    "soup = BeautifulSoup(page.text, \"html.parser\")\n",
    "# print(soup.prettify())"
   ]
  },
  {
   "cell_type": "markdown",
   "metadata": {},
   "source": [
    "*`BeautifulSoup`* method parses the HTML in the *`page`* variable <br>\n",
    "*`prettify()`* method presents the grabbed information in an easy to read structures tree format "
   ]
  },
  {
   "cell_type": "code",
   "execution_count": 6,
   "metadata": {},
   "outputs": [],
   "source": [
    "title = []\n",
    "price = []\n",
    "stock = []\n",
    "rating = []"
   ]
  },
  {
   "cell_type": "code",
   "execution_count": 7,
   "metadata": {},
   "outputs": [],
   "source": [
    "book_li = soup.find_all(\"li\", attrs = {\"class\": \"col-xs-6 col-sm-4 col-md-3 col-lg-3\"})\n",
    "# Used to store details of all \"li\" tags, which houses the details of each book in the catalog"
   ]
  },
  {
   "cell_type": "code",
   "execution_count": 8,
   "metadata": {},
   "outputs": [],
   "source": [
    "for book in book_li:\n",
    "    \n",
    "    # Extracting title of the book\n",
    "    name = book.article.h3.a.text\n",
    "    title.append(name)\n",
    "    \n",
    "    #Extracting the tag that houses both price and stock availability of each book\n",
    "    product = book.article.find(\"div\", attrs = {\"class\": \"product_price\"})\n",
    "    \n",
    "    # Extracting the cost of the book\n",
    "    cost = product.find(\"p\", {\"class\": \"price_color\"}).text\n",
    "    price.append(cost[2:])                                                   # Removing the euro sign in front of each price\n",
    "    \n",
    "    # Extracting the stock status of the book \n",
    "    available = product.find(\"p\", {\"class\": \"instock availability\"}).text\n",
    "    stock.append(available.lstrip().rstrip())                                # Removing white spaces surrounding the text\n",
    "    \n",
    "    # Extracting the rating of the book\n",
    "    rating_class_attrs = book.article.find(\"p\", {\"class\": \"star-rating\"}).attrs\n",
    "    if (\"One\" in rating_class_attrs[\"class\"]):\n",
    "        stars = 1\n",
    "    elif (\"Two\" in rating_class_attrs[\"class\"]):\n",
    "        stars = 2\n",
    "    elif (\"Three\" in rating_class_attrs[\"class\"]):\n",
    "        stars = 3\n",
    "    elif (\"Four\" in rating_class_attrs[\"class\"]):\n",
    "        stars = 4\n",
    "    elif (\"Five\" in rating_class_attrs[\"class\"]):\n",
    "        stars = 5\n",
    "    rating.append(stars)    "
   ]
  },
  {
   "cell_type": "code",
   "execution_count": 9,
   "metadata": {},
   "outputs": [
    {
     "name": "stdout",
     "output_type": "stream",
     "text": [
      "['A Light in the ...', 'Tipping the Velvet', 'Soumission', 'Sharp Objects', 'Sapiens: A Brief History ...', 'The Requiem Red', 'The Dirty Little Secrets ...', 'The Coming Woman: A ...', 'The Boys in the ...', 'The Black Maria', 'Starving Hearts (Triangular Trade ...', \"Shakespeare's Sonnets\", 'Set Me Free', \"Scott Pilgrim's Precious Little ...\", 'Rip it Up and ...', 'Our Band Could Be ...', 'Olio', 'Mesaerion: The Best Science ...', 'Libertarianism for Beginners', \"It's Only the Himalayas\"]\n"
     ]
    }
   ],
   "source": [
    "print(title)"
   ]
  },
  {
   "cell_type": "code",
   "execution_count": 10,
   "metadata": {},
   "outputs": [
    {
     "name": "stdout",
     "output_type": "stream",
     "text": [
      "['51.77', '53.74', '50.10', '47.82', '54.23', '22.65', '33.34', '17.93', '22.60', '52.15', '13.99', '20.66', '17.46', '52.29', '35.02', '57.25', '23.88', '37.59', '51.33', '45.17']\n"
     ]
    }
   ],
   "source": [
    "print(price)"
   ]
  },
  {
   "cell_type": "code",
   "execution_count": 11,
   "metadata": {},
   "outputs": [
    {
     "name": "stdout",
     "output_type": "stream",
     "text": [
      "['In stock', 'In stock', 'In stock', 'In stock', 'In stock', 'In stock', 'In stock', 'In stock', 'In stock', 'In stock', 'In stock', 'In stock', 'In stock', 'In stock', 'In stock', 'In stock', 'In stock', 'In stock', 'In stock', 'In stock']\n"
     ]
    }
   ],
   "source": [
    "print(stock)"
   ]
  },
  {
   "cell_type": "code",
   "execution_count": 12,
   "metadata": {},
   "outputs": [
    {
     "name": "stdout",
     "output_type": "stream",
     "text": [
      "[3, 1, 1, 4, 5, 1, 4, 3, 4, 1, 2, 4, 5, 5, 5, 3, 1, 1, 2, 2]\n"
     ]
    }
   ],
   "source": [
    "print(rating)"
   ]
  },
  {
   "cell_type": "code",
   "execution_count": 13,
   "metadata": {},
   "outputs": [],
   "source": [
    "# Creating a dataframe to store the data in a tabular form\n",
    "books = pd.DataFrame({\n",
    "    \"Title\": title,\n",
    "    \"Price\": price,\n",
    "    \"Availability\": stock,\n",
    "    \"5 Star Rating\": rating\n",
    "})"
   ]
  },
  {
   "cell_type": "code",
   "execution_count": 14,
   "metadata": {},
   "outputs": [
    {
     "name": "stdout",
     "output_type": "stream",
     "text": [
      "Title            object\n",
      "Price            object\n",
      "Availability     object\n",
      "5 Star Rating     int64\n",
      "dtype: object\n"
     ]
    }
   ],
   "source": [
    "print(books.dtypes)"
   ]
  },
  {
   "cell_type": "code",
   "execution_count": 15,
   "metadata": {},
   "outputs": [],
   "source": [
    "# Changing the data type of \"Price\" to float\n",
    "books[\"Price\"] = books[\"Price\"].astype(float)                            "
   ]
  },
  {
   "cell_type": "code",
   "execution_count": 16,
   "metadata": {},
   "outputs": [
    {
     "name": "stdout",
     "output_type": "stream",
     "text": [
      "Title             object\n",
      "Price            float64\n",
      "Availability      object\n",
      "5 Star Rating      int64\n",
      "dtype: object\n"
     ]
    }
   ],
   "source": [
    "print(books.dtypes)"
   ]
  },
  {
   "cell_type": "code",
   "execution_count": 17,
   "metadata": {},
   "outputs": [
    {
     "name": "stdout",
     "output_type": "stream",
     "text": [
      "                                    Title  Price Availability  5 Star Rating\n",
      "0                      A Light in the ...  51.77     In stock              3\n",
      "1                      Tipping the Velvet  53.74     In stock              1\n",
      "2                              Soumission  50.10     In stock              1\n",
      "3                           Sharp Objects  47.82     In stock              4\n",
      "4            Sapiens: A Brief History ...  54.23     In stock              5\n",
      "5                         The Requiem Red  22.65     In stock              1\n",
      "6            The Dirty Little Secrets ...  33.34     In stock              4\n",
      "7                 The Coming Woman: A ...  17.93     In stock              3\n",
      "8                     The Boys in the ...  22.60     In stock              4\n",
      "9                         The Black Maria  52.15     In stock              1\n",
      "10  Starving Hearts (Triangular Trade ...  13.99     In stock              2\n",
      "11                  Shakespeare's Sonnets  20.66     In stock              4\n",
      "12                            Set Me Free  17.46     In stock              5\n",
      "13    Scott Pilgrim's Precious Little ...  52.29     In stock              5\n",
      "14                      Rip it Up and ...  35.02     In stock              5\n",
      "15                  Our Band Could Be ...  57.25     In stock              3\n",
      "16                                   Olio  23.88     In stock              1\n",
      "17        Mesaerion: The Best Science ...  37.59     In stock              1\n",
      "18           Libertarianism for Beginners  51.33     In stock              2\n",
      "19                It's Only the Himalayas  45.17     In stock              2\n"
     ]
    }
   ],
   "source": [
    "print(books)"
   ]
  },
  {
   "cell_type": "code",
   "execution_count": 18,
   "metadata": {},
   "outputs": [],
   "source": [
    "# Saving the resultant data frame in a CSV file named as \"books_page_1.csv\"\n",
    "books.to_csv(\"books_page_1.csv\")"
   ]
  }
 ],
 "metadata": {
  "kernelspec": {
   "display_name": "Python 3",
   "language": "python",
   "name": "python3"
  },
  "language_info": {
   "codemirror_mode": {
    "name": "ipython",
    "version": 3
   },
   "file_extension": ".py",
   "mimetype": "text/x-python",
   "name": "python",
   "nbconvert_exporter": "python",
   "pygments_lexer": "ipython3",
   "version": "3.7.6"
  }
 },
 "nbformat": 4,
 "nbformat_minor": 2
}

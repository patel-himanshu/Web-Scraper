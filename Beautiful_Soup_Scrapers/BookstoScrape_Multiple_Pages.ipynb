{
 "cells": [
  {
   "cell_type": "code",
   "execution_count": 1,
   "metadata": {},
   "outputs": [],
   "source": [
    "import requests                            # For making request to websites\n",
    "from bs4 import BeautifulSoup              # For parsing HTML\n",
    "import pandas as pd                        # To store data in a data frame"
   ]
  },
  {
   "cell_type": "code",
   "execution_count": 2,
   "metadata": {},
   "outputs": [],
   "source": [
    "headers = {\"Accept-Language\": \"en-US, en;q=0.6, en-GB;q=0.5\"}"
   ]
  },
  {
   "cell_type": "markdown",
   "metadata": {},
   "source": [
    "*`Accept-Language`* request HTTP header tells us which (natural) language the user is able to understand.\n",
    "\n",
    "**Relative quality factor**: \n",
    "Preference of language by the user, on a scale of 0 to 1 <br>\n",
    "*`en-US, en;q=0.6, en-GB;q=0.5`* means American English is preferres, but will accept other types of English and British English.\n",
    "\n",
    "https://developer.mozilla.org/en-US/docs/Web/HTTP/Headers/Accept-Language"
   ]
  },
  {
   "cell_type": "code",
   "execution_count": 3,
   "metadata": {},
   "outputs": [],
   "source": [
    "# URL of first page: \"http://books.toscrape.com/catalogue/page-1.html\"\n",
    "\n",
    "url_head = \"http://books.toscrape.com/catalogue/page-\"\n",
    "url_tail = \".html\"\n",
    "\n",
    "title = []\n",
    "price = []\n",
    "stock = []\n",
    "rating = []\n",
    "page_no = []\n",
    "\n",
    "for i in range(1,51):\n",
    "    \n",
    "    url = url_head + str(i) + url_tail\n",
    "    page = requests.get(url, headers = headers)\n",
    "    soup = BeautifulSoup(page.text, \"html.parser\")\n",
    "        \n",
    "    book_li = soup.find_all(\"li\", attrs = {\"class\": \"col-xs-6 col-sm-4 col-md-3 col-lg-3\"})\n",
    "    # Used to store details of all \"li\" tags, which houses the details of each book in the catalog\n",
    "    \n",
    "    for book in book_li:\n",
    "    \n",
    "        # Extracting title of the book\n",
    "        name = book.article.h3.a.text\n",
    "        title.append(name)\n",
    "\n",
    "        #Extracting the tag that houses both price and stock availability of each book\n",
    "        product = book.article.find(\"div\", attrs = {\"class\": \"product_price\"})\n",
    "\n",
    "        # Extracting the cost of the book\n",
    "        cost = product.find(\"p\", {\"class\": \"price_color\"}).text\n",
    "        price.append(cost[2:]) # Removing the euro sign in front of each price\n",
    "\n",
    "        # Extracting the stock status of the book \n",
    "        available = product.find(\"p\", {\"class\": \"instock availability\"}).text\n",
    "        stock.append(available.lstrip().rstrip()) # Removing white spaces surrounding the text\n",
    "\n",
    "        # Extracting the rating of the book\n",
    "        rating_class_attrs = book.article.find(\"p\", {\"class\": \"star-rating\"}).attrs\n",
    "        if (\"One\" in rating_class_attrs[\"class\"]):\n",
    "            stars = 1\n",
    "        elif (\"Two\" in rating_class_attrs[\"class\"]):\n",
    "            stars = 2\n",
    "        elif (\"Three\" in rating_class_attrs[\"class\"]):\n",
    "            stars = 3\n",
    "        elif (\"Four\" in rating_class_attrs[\"class\"]):\n",
    "            stars = 4\n",
    "        elif (\"Five\" in rating_class_attrs[\"class\"]):\n",
    "            stars = 5\n",
    "        rating.append(stars)\n",
    "        \n",
    "        # Entering the webpage number in which the book is present\n",
    "        page_no.append(i)"
   ]
  },
  {
   "cell_type": "code",
   "execution_count": 4,
   "metadata": {},
   "outputs": [],
   "source": [
    "# Creating a data frame to store the data in a tabular form\n",
    "books = pd.DataFrame({\n",
    "    \"Title\": title,\n",
    "    \"Price (in Euros)\": price,\n",
    "    \"Availability\": stock,\n",
    "    \"5 Star Rating\": rating,\n",
    "    \"Webpage Number\": page_no\n",
    "})"
   ]
  },
  {
   "cell_type": "code",
   "execution_count": 5,
   "metadata": {},
   "outputs": [],
   "source": [
    "# Changing the data type of \"Price\" to float\n",
    "books[\"Price (in Euros)\"] = books[\"Price (in Euros)\"].astype(float)"
   ]
  },
  {
   "cell_type": "code",
   "execution_count": 6,
   "metadata": {},
   "outputs": [
    {
     "name": "stdout",
     "output_type": "stream",
     "text": [
      "                                Title  Price (in Euros) Availability  \\\n",
      "0                  A Light in the ...             51.77     In stock   \n",
      "1                  Tipping the Velvet             53.74     In stock   \n",
      "2                          Soumission             50.10     In stock   \n",
      "3                       Sharp Objects             47.82     In stock   \n",
      "4        Sapiens: A Brief History ...             54.23     In stock   \n",
      "..                                ...               ...          ...   \n",
      "995  Alice in Wonderland (Alice's ...             55.53     In stock   \n",
      "996    Ajin: Demi-Human, Volume 1 ...             57.06     In stock   \n",
      "997         A Spy's Devotion (The ...             16.97     In stock   \n",
      "998           1st to Die (Women's ...             53.98     In stock   \n",
      "999           1,000 Places to See ...             26.08     In stock   \n",
      "\n",
      "     5 Star Rating  Webpage Number  \n",
      "0                3               1  \n",
      "1                1               1  \n",
      "2                1               1  \n",
      "3                4               1  \n",
      "4                5               1  \n",
      "..             ...             ...  \n",
      "995              1              50  \n",
      "996              4              50  \n",
      "997              5              50  \n",
      "998              1              50  \n",
      "999              5              50  \n",
      "\n",
      "[1000 rows x 5 columns]\n"
     ]
    }
   ],
   "source": [
    "print(books)"
   ]
  },
  {
   "cell_type": "code",
   "execution_count": 7,
   "metadata": {},
   "outputs": [],
   "source": [
    "# Saving the resultant data frame in a CSV file named as \"books_to_scrap.csv\"\n",
    "books.to_csv(\"books_to_scrape.csv\")"
   ]
  }
 ],
 "metadata": {
  "kernelspec": {
   "display_name": "Python 3",
   "language": "python",
   "name": "python3"
  },
  "language_info": {
   "codemirror_mode": {
    "name": "ipython",
    "version": 3
   },
   "file_extension": ".py",
   "mimetype": "text/x-python",
   "name": "python",
   "nbconvert_exporter": "python",
   "pygments_lexer": "ipython3",
   "version": "3.7.6"
  }
 },
 "nbformat": 4,
 "nbformat_minor": 2
}
